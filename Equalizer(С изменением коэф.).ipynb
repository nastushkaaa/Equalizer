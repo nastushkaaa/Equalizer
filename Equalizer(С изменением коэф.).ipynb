{
 "cells": [
  {
   "cell_type": "code",
   "execution_count": 28,
   "id": "9caf9862",
   "metadata": {},
   "outputs": [
    {
     "ename": "PermissionError",
     "evalue": "[Errno 13] Permission denied: 'C:\\\\Users\\\\Админ\\\\Downloads\\\\filtered_audioNEW17.wav'",
     "output_type": "error",
     "traceback": [
      "\u001b[1;31m---------------------------------------------------------------------------\u001b[0m",
      "\u001b[1;31mPermissionError\u001b[0m                           Traceback (most recent call last)",
      "Cell \u001b[1;32mIn[28], line 49\u001b[0m\n\u001b[0;32m     46\u001b[0m audio_filtered \u001b[38;5;241m=\u001b[39m eq\u001b[38;5;241m.\u001b[39mapply_equalizer(audio_original, freq_bands, gains, gain_master\u001b[38;5;241m=\u001b[39m\u001b[38;5;241m1.5\u001b[39m)\n\u001b[0;32m     48\u001b[0m \u001b[38;5;66;03m# Save the filtered audio to a new WAV file\u001b[39;00m\n\u001b[1;32m---> 49\u001b[0m eq\u001b[38;5;241m.\u001b[39msave_audio(audio_filtered, \u001b[38;5;124m'\u001b[39m\u001b[38;5;124mC:\u001b[39m\u001b[38;5;130;01m\\\\\u001b[39;00m\u001b[38;5;124mUsers\u001b[39m\u001b[38;5;130;01m\\\\\u001b[39;00m\u001b[38;5;124mАдмин\u001b[39m\u001b[38;5;130;01m\\\\\u001b[39;00m\u001b[38;5;124mDownloads\u001b[39m\u001b[38;5;130;01m\\\\\u001b[39;00m\u001b[38;5;124mfiltered_audioNEW17.wav\u001b[39m\u001b[38;5;124m'\u001b[39m)\n\u001b[0;32m     51\u001b[0m \u001b[38;5;66;03m# Plot the waveform of the original and filtered audio\u001b[39;00m\n\u001b[0;32m     52\u001b[0m plt\u001b[38;5;241m.\u001b[39mfigure(figsize\u001b[38;5;241m=\u001b[39m(\u001b[38;5;241m12\u001b[39m, \u001b[38;5;241m6\u001b[39m))\n",
      "Cell \u001b[1;32mIn[28], line 27\u001b[0m, in \u001b[0;36mEqualizer.save_audio\u001b[1;34m(self, audio, filename)\u001b[0m\n\u001b[0;32m     25\u001b[0m \u001b[38;5;28;01mdef\u001b[39;00m \u001b[38;5;21msave_audio\u001b[39m(\u001b[38;5;28mself\u001b[39m, audio, filename\u001b[38;5;241m=\u001b[39m\u001b[38;5;124m'\u001b[39m\u001b[38;5;124mC:\u001b[39m\u001b[38;5;130;01m\\\\\u001b[39;00m\u001b[38;5;124mUsers\u001b[39m\u001b[38;5;130;01m\\\\\u001b[39;00m\u001b[38;5;124mАдмин\u001b[39m\u001b[38;5;130;01m\\\\\u001b[39;00m\u001b[38;5;124mDownloads\u001b[39m\u001b[38;5;130;01m\\\\\u001b[39;00m\u001b[38;5;124mfiltered_audioNEW17.wav\u001b[39m\u001b[38;5;124m'\u001b[39m):\n\u001b[0;32m     26\u001b[0m     scale_factor \u001b[38;5;241m=\u001b[39m np\u001b[38;5;241m.\u001b[39miinfo(np\u001b[38;5;241m.\u001b[39mint16)\u001b[38;5;241m.\u001b[39mmax\n\u001b[1;32m---> 27\u001b[0m     wavfile\u001b[38;5;241m.\u001b[39mwrite(filename, \u001b[38;5;28mself\u001b[39m\u001b[38;5;241m.\u001b[39mfs, (audio \u001b[38;5;241m*\u001b[39m scale_factor)\u001b[38;5;241m.\u001b[39mastype(np\u001b[38;5;241m.\u001b[39mint16))\n",
      "File \u001b[1;32mD:\\anaconda\\Lib\\site-packages\\scipy\\io\\wavfile.py:767\u001b[0m, in \u001b[0;36mwrite\u001b[1;34m(filename, rate, data)\u001b[0m\n\u001b[0;32m    765\u001b[0m     fid \u001b[38;5;241m=\u001b[39m filename\n\u001b[0;32m    766\u001b[0m \u001b[38;5;28;01melse\u001b[39;00m:\n\u001b[1;32m--> 767\u001b[0m     fid \u001b[38;5;241m=\u001b[39m \u001b[38;5;28mopen\u001b[39m(filename, \u001b[38;5;124m'\u001b[39m\u001b[38;5;124mwb\u001b[39m\u001b[38;5;124m'\u001b[39m)\n\u001b[0;32m    769\u001b[0m fs \u001b[38;5;241m=\u001b[39m rate\n\u001b[0;32m    771\u001b[0m \u001b[38;5;28;01mtry\u001b[39;00m:\n",
      "\u001b[1;31mPermissionError\u001b[0m: [Errno 13] Permission denied: 'C:\\\\Users\\\\Админ\\\\Downloads\\\\filtered_audioNEW17.wav'"
     ]
    }
   ],
   "source": [
    "import numpy as np\n",
    "import matplotlib.pyplot as plt\n",
    "from scipy.io import wavfile\n",
    "\n",
    "class Equalizer:\n",
    "    def __init__(self, fs):\n",
    "        self.fs = fs\n",
    "        self.audio = None\n",
    "\n",
    "    def apply_equalizer(self, audio, freq_bands, gains, gain_master=1.0):\n",
    "        spectrum = np.fft.rfft(audio)\n",
    "        f = np.linspace(0, self.fs/2, len(spectrum), endpoint=True)\n",
    "        filter = self.create_filter(f, freq_bands, gains)\n",
    "        spectrum_filtered = spectrum * np.expand_dims(filter, axis=1) * gain_master\n",
    "        audio_filtered = np.fft.irfft(spectrum_filtered).real\n",
    "        return audio_filtered\n",
    "\n",
    "    def create_filter(self, f, freq_bands, gains):\n",
    "        alpha = 7e-7  \n",
    "        x = np.ones_like(f)\n",
    "        for i in range(len(freq_bands)):\n",
    "            x *= 1 + gains[i] * np.exp(-alpha * (f - self.fs * freq_bands[i] / 2048)**2)\n",
    "        return x\n",
    "\n",
    "    def save_audio(self, audio, filename='C:\\\\Users\\\\Админ\\\\Downloads\\\\filtered_audioNEW17.wav'):\n",
    "        scale_factor = np.iinfo(np.int16).max\n",
    "        wavfile.write(filename, self.fs, (audio * scale_factor).astype(np.int16))\n",
    "\n",
    "    def play_audio(self, audio):\n",
    "        self.save_audio(audio)\n",
    "        rate, audio_output = wavfile.read(\"C:\\\\Users\\\\Админ\\\\Downloads\\\\filtered_audioNEW17.wav\")\n",
    "        self.audio = audio_output\n",
    "        return audio_output\n",
    "\n",
    "# Read the original WAV file\n",
    "filename = 'C:\\\\Users\\\\Админ\\\\Downloads\\\\sample-3s.wav'\n",
    "rate, audio_original = wavfile.read(filename)\n",
    "\n",
    "# Create an Equalizer object\n",
    "eq = Equalizer(rate)\n",
    "\n",
    "# Определение частотных диапазонов и коэффициентов усиления\n",
    "freq_bands = [100, 500, 2000, 5000]\n",
    "gains = [1.1, 0.9, 0.7, 1.2]\n",
    "\n",
    "audio_filtered = eq.apply_equalizer(audio_original, freq_bands, gains, gain_master=1.5)\n",
    "\n",
    "# Save the filtered audio to a new WAV file\n",
    "eq.save_audio(audio_filtered, 'C:\\\\Users\\\\Админ\\\\Downloads\\\\filtered_audioNEW17.wav')\n",
    "\n",
    "# Plot the waveform of the original and filtered audio\n",
    "plt.figure(figsize=(12, 6))\n",
    "plt.subplot(2, 1, 1)\n",
    "plt.plot(audio_original / np.max(np.abs(audio_original)))\n",
    "plt.xlabel('Time (samples)')\n",
    "plt.ylabel('Amplitude')\n",
    "plt.title('Waveform of the original audio')\n",
    "\n",
    "plt.subplot(2, 1, 2)\n",
    "plt.plot(audio_filtered / np.max(np.abs(audio_filtered)))\n",
    "plt.xlabel('Time (samples)')\n",
    "plt.ylabel('Amplitude')\n",
    "plt.title('Waveform of the filtered audio')\n",
    "\n",
    "plt.tight_layout()\n"
   ]
  },
  {
   "cell_type": "markdown",
   "id": "c8c0f6ae",
   "metadata": {},
   "source": []
  }
 ],
 "metadata": {
  "kernelspec": {
   "display_name": "Python 3 (ipykernel)",
   "language": "python",
   "name": "python3"
  },
  "language_info": {
   "codemirror_mode": {
    "name": "ipython",
    "version": 3
   },
   "file_extension": ".py",
   "mimetype": "text/x-python",
   "name": "python",
   "nbconvert_exporter": "python",
   "pygments_lexer": "ipython3",
   "version": "3.11.4"
  }
 },
 "nbformat": 4,
 "nbformat_minor": 5
}
